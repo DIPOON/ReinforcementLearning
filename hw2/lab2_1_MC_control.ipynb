{
  "cells": [
    {
      "cell_type": "markdown",
      "metadata": {
        "colab_type": "text",
        "id": "zrJTvgEQsk_b"
      },
      "source": [
        "#Monte Carlo Methods\n",
        "\n",
        "In this notebook, you will write your own implementations of many Monte Carlo (MC) algorithms.  \n",
        "\n",
        "While we have provided some starter code, you are welcome to erase these hints and write your code from scratch."
      ]
    },
    {
      "cell_type": "code",
      "execution_count": null,
      "metadata": {
        "colab": {
          "base_uri": "https://localhost:8080/",
          "height": 647
        },
        "colab_type": "code",
        "id": "piz6kQHOwV2u",
        "outputId": "d3f10708-6efd-455f-ffdc-b9331c714d4f"
      },
      "outputs": [],
      "source": [
        "import sys, os\n",
        "!ls\n",
        "\n",
        "if 'google.colab' in sys.modules:\n",
        "  from google.colab import drive\n",
        "  drive.mount('/content/drive')\n",
        "  sys.path.append('/content/drive/My Drive/RL/hw3')\n",
        "  %cd /content/drive/My Drive/RL/hw3\n",
        "\n",
        "  !pip install gym\n",
        "  !apt-get install -y xvfb\n",
        "  !wget https://raw.githubusercontent.com/yandexdataschool/Practical_DL/fall18/xvfb -O ../xvfb\n",
        "  !apt-get install -y python-opengl ffmpeg\n",
        "  !pip install pyglet==1.5.0\n",
        "\n",
        "\n",
        "# This code creates a virtual display to draw game images on.\n",
        "# If you are running locally, just ignore it\n",
        "if type(os.environ.get(\"DISPLAY\")) is not str or len(os.environ.get(\"DISPLAY\")) == 0:\n",
        "    !bash ../xvfb start\n",
        "    os.environ['DISPLAY'] = ':1'\n",
        "\n",
        "import numpy as np\n",
        "import matplotlib.pyplot as plt\n",
        "%matplotlib inline\n",
        "%load_ext autoreload\n",
        "%autoreload 2"
      ]
    },
    {
      "cell_type": "markdown",
      "metadata": {
        "colab_type": "text",
        "id": "hHMyDH3-sk_e"
      },
      "source": [
        "### Part 0: Explore BlackjackEnv\n",
        "\n",
        "Use the code cell below to create an instance of the [Blackjack](https://github.com/openai/gym/blob/master/gym/envs/toy_text/blackjack.py) environment."
      ]
    },
    {
      "cell_type": "code",
      "execution_count": null,
      "metadata": {
        "colab": {},
        "colab_type": "code",
        "id": "fnqvGHUKsk_g"
      },
      "outputs": [],
      "source": [
        "import gym\n",
        "env = gym.make('Blackjack-v0')"
      ]
    },
    {
      "cell_type": "markdown",
      "metadata": {
        "colab_type": "text",
        "id": "YiT6Y0AUsk_k"
      },
      "source": [
        "Each state is a 3-tuple of:\n",
        "- the player's current sum $\\in \\{0, 1, \\ldots, 31\\}$,\n",
        "- the dealer's face up card $\\in \\{1, \\ldots, 10\\}$, and\n",
        "- whether or not the player has a usable ace (`no` $=0$, `yes` $=1$).\n",
        "\n",
        "The agent has two potential actions:\n",
        "\n",
        "```\n",
        "    STICK = 0\n",
        "    HIT = 1\n",
        "```\n",
        "Verify this by running the code cell below."
      ]
    },
    {
      "cell_type": "code",
      "execution_count": null,
      "metadata": {
        "colab": {
          "base_uri": "https://localhost:8080/",
          "height": 53
        },
        "colab_type": "code",
        "id": "CfAwgFG5sk_l",
        "outputId": "f9079de8-e0b3-4d60-9777-937fc2a5b0c6"
      },
      "outputs": [],
      "source": [
        "print(env.observation_space)\n",
        "print(env.action_space)"
      ]
    },
    {
      "cell_type": "markdown",
      "metadata": {
        "colab_type": "text",
        "id": "CrqrAq0gsk_q"
      },
      "source": [
        "Execute the code cell below to play Blackjack with a random policy.  \n",
        "\n",
        "(_The code currently plays Blackjack three times - feel free to change this number, or to run the cell multiple times.  The cell is designed for you to get some experience with the output that is returned as the agent interacts with the environment._)"
      ]
    },
    {
      "cell_type": "code",
      "execution_count": null,
      "metadata": {
        "colab": {
          "base_uri": "https://localhost:8080/",
          "height": 269
        },
        "colab_type": "code",
        "id": "q3J_D7Swsk_r",
        "outputId": "a25d19d1-c4b8-455c-b888-b47368cbcf81"
      },
      "outputs": [],
      "source": [
        "for i_episode in range(3):\n",
        "    state = env.reset()\n",
        "    while True:\n",
        "        print(state)\n",
        "        action = env.action_space.sample()\n",
        "        state, reward, done, info = env.step(action)\n",
        "        if done:\n",
        "            print('End game! Reward: ', reward)\n",
        "            print('You won :)\\n') if reward > 0 else print('You lost :(\\n')\n",
        "            break"
      ]
    },
    {
      "cell_type": "markdown",
      "metadata": {
        "colab_type": "text",
        "id": "P8DAWQQysk_u"
      },
      "source": [
        "### Part 1: MC Prediction: State Values\n",
        "\n",
        "In this section, you will write your own implementation of MC prediction (for estimating the state-value function).\n",
        "\n",
        "We will begin by investigating a policy where the player always sticks if the sum of her cards exceeds 18.  The function `generate_episode_from_limit` samples an episode using this policy. \n",
        "\n",
        "The function accepts as **input**:\n",
        "- `bj_env`: This is an instance of OpenAI Gym's Blackjack environment.\n",
        "\n",
        "It returns as **output**:\n",
        "- `episode`: This is a list of (state, action, reward) tuples (of tuples) and corresponds to $(S_0, A_0, R_1, \\ldots, S_{T-1}, A_{T-1}, R_{T})$, where $T$ is the final time step.  In particular, `episode[i]` returns $(S_i, A_i, R_{i+1})$, and `episode[i][0]`, `episode[i][1]`, and `episode[i][2]` return $S_i$, $A_i$, and $R_{i+1}$, respectively."
      ]
    },
    {
      "cell_type": "code",
      "execution_count": null,
      "metadata": {
        "colab": {},
        "colab_type": "code",
        "id": "sIn0tPP6sk_v"
      },
      "outputs": [],
      "source": [
        "def generate_episode_from_limit(bj_env):\n",
        "    episode = []\n",
        "    state = bj_env.reset()\n",
        "    while True:\n",
        "        action = 0 if state[0] > 18 else 1\n",
        "        next_state, reward, done, info = bj_env.step(action)\n",
        "        episode.append((state, action, reward))\n",
        "        state = next_state\n",
        "        if done:\n",
        "            break\n",
        "    return episode"
      ]
    },
    {
      "cell_type": "markdown",
      "metadata": {
        "colab_type": "text",
        "id": "Y8uSmLubsk_z"
      },
      "source": [
        "Execute the code cell below to play Blackjack with the policy. \n",
        "\n",
        "(*The code currently plays Blackjack three times - feel free to change this number, or to run the cell multiple times.  The cell is designed for you to gain some familiarity with the output of the `generate_episode_from_limit` function.*)"
      ]
    },
    {
      "cell_type": "code",
      "execution_count": null,
      "metadata": {
        "colab": {
          "base_uri": "https://localhost:8080/",
          "height": 71
        },
        "colab_type": "code",
        "id": "Tcv_UcfDsk_1",
        "outputId": "0c537aa7-309d-4e97-839d-c2bf2a639487"
      },
      "outputs": [],
      "source": [
        "for i in range(3):\n",
        "    print(generate_episode_from_limit(env))"
      ]
    },
    {
      "cell_type": "markdown",
      "metadata": {
        "colab_type": "text",
        "id": "MamX5a6Zsk_4"
      },
      "source": [
        "Now, you are ready to write your own implementation of MC prediction.  Feel free to implement either first-visit or every-visit MC prediction; in the case of the Blackjack environment, the techniques are equivalent.\n",
        "\n",
        "Your algorithm has three arguments:\n",
        "- `env`: This is an instance of an OpenAI Gym environment.\n",
        "- `num_episodes`: This is the number of episodes that are generated through agent-environment interaction.\n",
        "- `generate_episode`: This is a function that returns an episode of interaction.\n",
        "- `gamma`: This is the discount rate.  It must be a value between 0 and 1, inclusive (default value: `1`).\n",
        "\n",
        "The algorithm returns as output:\n",
        "- `V`: This is a dictionary where `V[s]` is the estimated value of state `s`.  For example, if your code returns the following output:\n",
        "```\n",
        "{(4, 7, False): -0.38775510204081631, (18, 6, False): -0.58434296365330851, (13, 2, False): -0.43409090909090908, (6, 7, False): -0.3783783783783784, ...\n",
        "```\n",
        "then the value of state `(4, 7, False)` was estimated to be `-0.38775510204081631`.\n",
        "\n",
        "If you are unfamiliar with how to use `defaultdict` in Python, you are encouraged to check out [this source](https://www.accelebrate.com/blog/using-defaultdict-python/)."
      ]
    },
    {
      "cell_type": "code",
      "execution_count": null,
      "metadata": {
        "colab": {},
        "colab_type": "code",
        "id": "NilanadJsk_5"
      },
      "outputs": [],
      "source": [
        "from collections import defaultdict\n",
        "import numpy as np\n",
        "import sys\n",
        "\n",
        "def mc_prediction_v(env, num_episodes, generate_episode, gamma=1.0):\n",
        "    # initialize empty dictionary of lists\n",
        "    returns = defaultdict(list)\n",
        "    # loop over episodes\n",
        "    for i_episode in range(1, num_episodes+1):\n",
        "        # monitor progress\n",
        "        if i_episode % 1000 == 0:\n",
        "            print(\"\\rEpisode {}/{}.\".format(i_episode, num_episodes), end=\"\")\n",
        "            sys.stdout.flush()\n",
        "        # Generate episode\n",
        "        episode = generate_episode(env)\n",
        "        # extract states, actions & rewards\n",
        "        state_list, action_list, reward_list = zip(*episode)\n",
        "        # implement discount\n",
        "        discount = np.array([gamma**i for i in range(len(reward_list)+1)])\n",
        "        # calculate and store the return for each visit in the episode\n",
        "        for i,state in enumerate(state_list):\n",
        "            returns[state].append(sum(reward_list[i:]*discount[:-(i+1)]))\n",
        "    # calculate the state-value function estimate\n",
        "    V = {k: np.mean(v) for k, v in returns.items()}\n",
        "    return V"
      ]
    },
    {
      "cell_type": "markdown",
      "metadata": {
        "colab_type": "text",
        "id": "A6cGAN6jsk_8"
      },
      "source": [
        "Use the cell below to calculate and plot the state-value function estimate.  (_The code for plotting the value function has been borrowed from [this source](https://github.com/dennybritz/reinforcement-learning/blob/master/lib/plotting.py) and slightly adapted._)\n"
      ]
    },
    {
      "cell_type": "code",
      "execution_count": null,
      "metadata": {
        "colab": {
          "base_uri": "https://localhost:8080/",
          "height": 1000
        },
        "colab_type": "code",
        "id": "fHGvXPAcsk_9",
        "outputId": "7ba8794c-b641-4261-ca80-bd352f9da5a0"
      },
      "outputs": [],
      "source": [
        "from plot_utils import plot_blackjack_values\n",
        "\n",
        "# obtain the value function\n",
        "V = mc_prediction_v(env, 500000, generate_episode_from_limit)\n",
        "\n",
        "# plot the value function\n",
        "plot_blackjack_values(V)"
      ]
    },
    {
      "cell_type": "markdown",
      "metadata": {
        "colab_type": "text",
        "id": "dbjP0xOWslAB"
      },
      "source": [
        "### Part 2: MC Prediction: Action Values\n",
        "\n",
        "In this section, you will write your own implementation of MC prediction (for estimating the action-value function).  \n",
        "\n",
        "We will begin by investigating a policy where the player _almost_ always sticks if the sum of her cards exceeds 18.  In particular, she selects action `STICK` with 80% probability if the sum is greater than 18; and, if the sum is 18 or below, she selects action `HIT` with 80% probability.  The function `generate_episode_from_limit_stochastic` samples an episode using this policy. \n",
        "\n",
        "The function accepts as **input**:\n",
        "- `bj_env`: This is an instance of OpenAI Gym's Blackjack environment.\n",
        "\n",
        "It returns as **output**:\n",
        "- `episode`: This is a list of (state, action, reward) tuples (of tuples) and corresponds to $(S_0, A_0, R_1, \\ldots, S_{T-1}, A_{T-1}, R_{T})$, where $T$ is the final time step.  In particular, `episode[i]` returns $(S_i, A_i, R_{i+1})$, and `episode[i][0]`, `episode[i][1]`, and `episode[i][2]` return $S_i$, $A_i$, and $R_{i+1}$, respectively."
      ]
    },
    {
      "cell_type": "code",
      "execution_count": null,
      "metadata": {
        "colab": {},
        "colab_type": "code",
        "id": "jpEG3vj9slAC"
      },
      "outputs": [],
      "source": [
        "def generate_episode_from_limit_stochastic(bj_env):\n",
        "    episode = []\n",
        "    state = bj_env.reset()\n",
        "    while True:\n",
        "        probs = [0.8, 0.2] if state[0] > 18 else [0.2, 0.8]\n",
        "        action = np.random.choice(np.arange(2), p=probs)\n",
        "        next_state, reward, done, info = bj_env.step(action)\n",
        "        episode.append((state, action, reward))\n",
        "        state = next_state\n",
        "        if done:\n",
        "            break\n",
        "    return episode"
      ]
    },
    {
      "cell_type": "markdown",
      "metadata": {
        "colab_type": "text",
        "id": "4Hm3WipAslAF"
      },
      "source": [
        "Now, you are ready to write your own implementation of MC prediction.  Feel free to implement either first-visit or every-visit MC prediction; in the case of the Blackjack environment, the techniques are equivalent.\n",
        "\n",
        "Your algorithm has three arguments:\n",
        "- `env`: This is an instance of an OpenAI Gym environment.\n",
        "- `num_episodes`: This is the number of episodes that are generated through agent-environment interaction.\n",
        "- `generate_episode`: This is a function that returns an episode of interaction.\n",
        "- `gamma`: This is the discount rate.  It must be a value between 0 and 1, inclusive (default value: `1`).\n",
        "\n",
        "The algorithm returns as output:\n",
        "- `Q`: This is a dictionary (of one-dimensional arrays) where `Q[s][a]` is the estimated action value corresponding to state `s` and action `a`."
      ]
    },
    {
      "cell_type": "code",
      "execution_count": null,
      "metadata": {
        "colab": {},
        "colab_type": "code",
        "id": "7sIl_BSqslAG"
      },
      "outputs": [],
      "source": [
        "def mc_prediction_q(env, num_episodes, generate_episode, gamma=1.0):\n",
        "    # initialize empty dictionaries of arrays\n",
        "    returns_sum = defaultdict(lambda: np.zeros(env.action_space.n))\n",
        "    N = defaultdict(lambda: np.zeros(env.action_space.n))\n",
        "    Q = defaultdict(lambda: np.zeros(env.action_space.n))\n",
        "    # loop over episodes\n",
        "    \n",
        "    <YOUR CODE HERE>\n",
        "    \n",
        "    return Q"
      ]
    },
    {
      "cell_type": "markdown",
      "metadata": {
        "colab_type": "text",
        "id": "8A9lpt1kslAJ"
      },
      "source": [
        "Use the cell below to obtain the action-value function estimate $Q$.  We have also plotted the corresponding state-value function.\n"
      ]
    },
    {
      "cell_type": "code",
      "execution_count": null,
      "metadata": {
        "colab": {
          "base_uri": "https://localhost:8080/",
          "height": 1000
        },
        "colab_type": "code",
        "id": "P4CNTjFbslAK",
        "outputId": "651fba80-6c49-47b5-e9f5-cfd1f503dc5d"
      },
      "outputs": [],
      "source": [
        "# obtain the action-value function\n",
        "Q = mc_prediction_q(env, 500000, generate_episode_from_limit_stochastic)\n",
        "\n",
        "# obtain the state-value function\n",
        "V_to_plot = dict((k,(k[0]>18)*(np.dot([0.8, 0.2],v)) + (k[0]<=18)*(np.dot([0.2, 0.8],v))) \\\n",
        "         for k, v in Q.items())\n",
        "\n",
        "# plot the state-value function\n",
        "plot_blackjack_values(V_to_plot)"
      ]
    },
    {
      "cell_type": "markdown",
      "metadata": {
        "colab_type": "text",
        "id": "5DMI6P2rslAN"
      },
      "source": [
        "### Part 3: MC Control: GLIE\n",
        "\n",
        "In this section, you will write your own implementation of constant-$\\alpha$ MC control.  \n",
        "\n",
        "Your algorithm has three arguments:\n",
        "- `env`: This is an instance of an OpenAI Gym environment.\n",
        "- `num_episodes`: This is the number of episodes that are generated through agent-environment interaction.\n",
        "- `gamma`: This is the discount rate.  It must be a value between 0 and 1, inclusive (default value: `1`).\n",
        "\n",
        "The algorithm returns as output:\n",
        "- `Q`: This is a dictionary (of one-dimensional arrays) where `Q[s][a]` is the estimated action value corresponding to state `s` and action `a`.\n",
        "- `policy`: This is a dictionary where `policy[s]` returns the action that the agent chooses after observing state `s`.\n",
        "\n",
        "(_Feel free to define additional functions to help you to organize your code._)"
      ]
    },
    {
      "cell_type": "code",
      "execution_count": null,
      "metadata": {
        "colab": {},
        "colab_type": "code",
        "id": "LQgl8_tlslAN"
      },
      "outputs": [],
      "source": [
        "def generate_episode_from_Q(env, Q, epsilon, nA):\n",
        "    \"\"\" generates an episode from following the epsilon-greedy policy \"\"\"\n",
        "    episode = []\n",
        "    state = env.reset()\n",
        "    while True:\n",
        "        action = np.random.choice(np.arange(nA), p=get_probs(Q[state], epsilon, nA)) \\\n",
        "                                    if state in Q else env.action_space.sample()\n",
        "        next_state, reward, done, info = env.step(action)\n",
        "        episode.append((state, action, reward))\n",
        "        state = next_state\n",
        "        if done:\n",
        "            break\n",
        "    return episode\n",
        "\n",
        "def get_probs(Q_s, epsilon, nA):\n",
        "    \"\"\" obtains the action probabilities corresponding to epsilon-greedy policy \"\"\"\n",
        "    policy_s = np.ones(nA) * epsilon / nA\n",
        "    best_a = np.argmax(Q_s)\n",
        "    policy_s[best_a] = 1 - epsilon + (epsilon / nA)\n",
        "    return policy_s\n",
        "\n",
        "def update_Q_GLIE(env, episode, Q, N, gamma):\n",
        "    \"\"\" updates the action-value function estimate using the most recent episode \"\"\"\n",
        "    states, actions, rewards = zip(*episode)\n",
        "    # prepare for discounting\n",
        "    discounts = np.array([gamma**i for i in range(len(rewards)+1)])\n",
        "    for i, state in enumerate(states):\n",
        "        old_Q = Q[state][actions[i]] \n",
        "        old_N = N[state][actions[i]]\n",
        "        Q[state][actions[i]] = old_Q + (sum(rewards[i:]*discounts[:-(1+i)]) - old_Q)/(old_N+1)\n",
        "        N[state][actions[i]] += 1\n",
        "    return Q, N\n",
        "\n",
        "def mc_control_GLIE(env, num_episodes, gamma=1.0):\n",
        "    nA = env.action_space.n\n",
        "    # initialize empty dictionaries of arrays\n",
        "    Q = defaultdict(lambda: np.zeros(nA))\n",
        "    N = defaultdict(lambda: np.zeros(nA))\n",
        "    # loop over episodes\n",
        "    for i_episode in range(1, num_episodes+1):\n",
        "        # monitor progress\n",
        "        if i_episode % 1000 == 0:\n",
        "            print(\"\\rEpisode {}/{}.\".format(i_episode, num_episodes), end=\"\")\n",
        "            sys.stdout.flush()\n",
        "        # set the value of epsilon\n",
        "        epsilon = 1.0/((i_episode/8000)+1)\n",
        "        # generate an episode by following epsilon-greedy policy\n",
        "        episode = generate_episode_from_Q(env, Q, epsilon, nA)\n",
        "        # update the action-value function estimate using the episode\n",
        "        Q, N = update_Q_GLIE(env, episode, Q, N, gamma)\n",
        "    # determine the policy corresponding to the final action-value function estimate\n",
        "    policy = dict((k,np.argmax(v)) for k, v in Q.items())\n",
        "    return policy, Q"
      ]
    },
    {
      "cell_type": "markdown",
      "metadata": {
        "colab_type": "text",
        "id": "IYBj97hRslAR"
      },
      "source": [
        "Use the cell below to obtain the estimated optimal policy and action-value function."
      ]
    },
    {
      "cell_type": "code",
      "execution_count": null,
      "metadata": {
        "colab": {
          "base_uri": "https://localhost:8080/",
          "height": 35
        },
        "colab_type": "code",
        "id": "KWnFmkW5slAS",
        "outputId": "6ee99938-45aa-482e-dd1b-1e21ce74651f"
      },
      "outputs": [],
      "source": [
        "# obtain the estimated optimal policy and action-value function\n",
        "policy_glie, Q_glie = mc_control_GLIE(env, 500000)"
      ]
    },
    {
      "cell_type": "markdown",
      "metadata": {
        "colab_type": "text",
        "id": "Y_00VSPhslAV"
      },
      "source": [
        "Next, we plot the corresponding state-value function."
      ]
    },
    {
      "cell_type": "code",
      "execution_count": null,
      "metadata": {
        "colab": {
          "base_uri": "https://localhost:8080/",
          "height": 1000
        },
        "colab_type": "code",
        "id": "rtkDuSLLslAW",
        "outputId": "cd282e49-cd49-40c2-bd97-808022403293"
      },
      "outputs": [],
      "source": [
        "# obtain the state-value function\n",
        "V_glie = dict((k,np.max(v)) for k, v in Q_glie.items())\n",
        "\n",
        "# plot the state-value function\n",
        "plot_blackjack_values(V_glie)"
      ]
    },
    {
      "cell_type": "markdown",
      "metadata": {
        "colab_type": "text",
        "id": "kpjgIFc5slAZ"
      },
      "source": [
        "Finally, we visualize the policy that is estimated to be optimal."
      ]
    },
    {
      "cell_type": "code",
      "execution_count": null,
      "metadata": {
        "colab": {
          "base_uri": "https://localhost:8080/",
          "height": 401
        },
        "colab_type": "code",
        "id": "Xn2e4RW2slAa",
        "outputId": "dc8ad5c2-2e52-4739-b7ce-398100e6f2d8"
      },
      "outputs": [],
      "source": [
        "from plot_utils import plot_policy\n",
        "\n",
        "# plot the policy\n",
        "plot_policy(policy_glie)"
      ]
    },
    {
      "cell_type": "markdown",
      "metadata": {
        "colab_type": "text",
        "id": "Ntac_zpeslAc"
      },
      "source": [
        "The **true** optimal policy $\\pi_*$ can be found on page 82 of the [textbook](http://go.udacity.com/rl-textbook) (and appears below).  Compare your final estimate to the optimal policy - how close are you able to get?  If you are not happy with the performance of your algorithm, take the time to tweak the decay rate of $\\epsilon$ and/or run the algorithm for more episodes to attain better results.\n",
        "\n",
        "![True Optimal Policy](https://github.com/harshitandro/OpenAI-Gym-BlackjackEnv/blob/master/Monte_Carlo/images/optimal.png?raw=1)"
      ]
    },
    {
      "cell_type": "markdown",
      "metadata": {
        "colab_type": "text",
        "id": "oMVQGz5UslAd"
      },
      "source": [
        "### Part 4: MC Control: Constant learning rate $\\alpha$\n",
        "\n",
        "In this section, you will write your own implementation of constant-$\\alpha$ MC control.  \n",
        "\n",
        "Your algorithm has four arguments:\n",
        "- `env`: This is an instance of an OpenAI Gym environment.\n",
        "- `num_episodes`: This is the number of episodes that are generated through agent-environment interaction.\n",
        "- `alpha`: This is the step-size parameter for the update step.\n",
        "- `gamma`: This is the discount rate.  It must be a value between 0 and 1, inclusive (default value: `1`).\n",
        "\n",
        "The algorithm returns as output:\n",
        "- `Q`: This is a dictionary (of one-dimensional arrays) where `Q[s][a]` is the estimated action value corresponding to state `s` and action `a`.\n",
        "- `policy`: This is a dictionary where `policy[s]` returns the action that the agent chooses after observing state `s`.\n",
        "\n",
        "(_Feel free to define additional functions to help you to organize your code._)"
      ]
    },
    {
      "cell_type": "code",
      "execution_count": null,
      "metadata": {
        "colab": {},
        "colab_type": "code",
        "id": "m__uFrGxslAe"
      },
      "outputs": [],
      "source": [
        "def update_Q_alpha(env, episode, Q, alpha, gamma):\n",
        "    \"\"\" updates the action-value function estimate using the most recent episode \"\"\"\n",
        "    states, actions, rewards = zip(*episode)\n",
        "    # prepare for discounting\n",
        "    discounts = np.array([gamma**i for i in range(len(rewards)+1)])\n",
        "    for i, state in enumerate(states):\n",
        "        old_Q = Q[state][actions[i]] \n",
        "        Q[state][actions[i]] = old_Q + alpha*(sum(rewards[i:]*discounts[:-(1+i)]) - old_Q)\n",
        "    return Q\n",
        "\n",
        "def mc_control_alpha(env, num_episodes, alpha, gamma=1.0):\n",
        "    nA = env.action_space.n\n",
        "\n",
        "    <YOUR CODE HERE>\n",
        "\n",
        "    # initialize empty dictionary of arrays\n",
        "\n",
        "    # loop over episodes\n",
        "\n",
        "    return policy, Q"
      ]
    },
    {
      "cell_type": "markdown",
      "metadata": {
        "colab_type": "text",
        "id": "OZnQUK-2slAh"
      },
      "source": [
        "Use the cell below to obtain the estimated optimal policy and action-value function."
      ]
    },
    {
      "cell_type": "code",
      "execution_count": null,
      "metadata": {
        "colab": {
          "base_uri": "https://localhost:8080/",
          "height": 35
        },
        "colab_type": "code",
        "id": "lfMlZbQrslAi",
        "outputId": "357090af-24d1-4f7c-dfb0-b4d17133b3bd"
      },
      "outputs": [],
      "source": [
        "# obtain the estimated optimal policy and action-value function\n",
        "policy_alpha, Q_alpha = mc_control_alpha(env, 500000, 0.008)"
      ]
    },
    {
      "cell_type": "markdown",
      "metadata": {
        "colab_type": "text",
        "id": "o_EkWk-3slAl"
      },
      "source": [
        "Next, we plot the corresponding state-value function."
      ]
    },
    {
      "cell_type": "code",
      "execution_count": null,
      "metadata": {
        "colab": {
          "base_uri": "https://localhost:8080/",
          "height": 1000
        },
        "colab_type": "code",
        "id": "k6m89aA5slAm",
        "outputId": "caeccacf-d075-4e03-ac58-fd724225f3a3",
        "scrolled": true
      },
      "outputs": [],
      "source": [
        "# obtain the state-value function\n",
        "V_alpha = dict((k,np.max(v)) for k, v in Q_alpha.items())\n",
        "\n",
        "# plot the state-value function\n",
        "plot_blackjack_values(V_alpha)"
      ]
    },
    {
      "cell_type": "markdown",
      "metadata": {
        "colab_type": "text",
        "id": "qh8v4RXxslAp"
      },
      "source": [
        "Finally, we visualize the policy that is estimated to be optimal."
      ]
    },
    {
      "cell_type": "code",
      "execution_count": null,
      "metadata": {
        "colab": {
          "base_uri": "https://localhost:8080/",
          "height": 401
        },
        "colab_type": "code",
        "id": "kf_mF5fZslAp",
        "outputId": "655bfd53-ab4a-4d8b-ab64-407ebf43a435"
      },
      "outputs": [],
      "source": [
        "# plot the policy\n",
        "plot_policy(policy_alpha)"
      ]
    },
    {
      "cell_type": "markdown",
      "metadata": {
        "colab_type": "text",
        "id": "7ItPjylwslAs"
      },
      "source": [
        "The **true** optimal policy $\\pi_*$ can be found on page 82 of the [textbook](http://go.udacity.com/rl-textbook) (and appears below).  Compare your final estimate to the optimal policy - how close are you able to get?  If you are not happy with the performance of your algorithm, take the time to tweak the decay rate of $\\epsilon$, change the value of $\\alpha$, and/or run the algorithm for more episodes to attain better results.\n",
        "\n",
        "![True Optimal Policy](https://github.com/harshitandro/OpenAI-Gym-BlackjackEnv/blob/master/Monte_Carlo/images/optimal.png?raw=1)"
      ]
    }
  ],
  "metadata": {
    "accelerator": "GPU",
    "anaconda-cloud": {},
    "colab": {
      "collapsed_sections": [],
      "name": "hw3_1_MC_control.ipynb",
      "provenance": []
    },
    "kernelspec": {
      "display_name": "Python 3",
      "name": "python3"
    }
  },
  "nbformat": 4,
  "nbformat_minor": 0
}
